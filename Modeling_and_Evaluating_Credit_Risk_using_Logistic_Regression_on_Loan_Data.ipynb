{
  "nbformat": 4,
  "nbformat_minor": 0,
  "metadata": {
    "colab": {
      "provenance": [],
      "authorship_tag": "ABX9TyN+84iGCzVX+IaY/tqteKxH",
      "include_colab_link": true
    },
    "kernelspec": {
      "name": "python3",
      "display_name": "Python 3"
    },
    "language_info": {
      "name": "python"
    }
  },
  "cells": [
    {
      "cell_type": "markdown",
      "metadata": {
        "id": "view-in-github",
        "colab_type": "text"
      },
      "source": [
        "<a href=\"https://colab.research.google.com/github/DeepthiVReddy/Credit-Risk-modeling/blob/main/Modeling_and_Evaluating_Credit_Risk_using_Logistic_Regression_on_Loan_Data.ipynb\" target=\"_parent\"><img src=\"https://colab.research.google.com/assets/colab-badge.svg\" alt=\"Open In Colab\"/></a>"
      ]
    },
    {
      "cell_type": "code",
      "execution_count": null,
      "metadata": {
        "colab": {
          "base_uri": "https://localhost:8080/"
        },
        "id": "eG9DoirfEQcf",
        "outputId": "7b30d555-7756-4a13-b02f-62053cfb4cfa"
      },
      "outputs": [
        {
          "output_type": "stream",
          "name": "stdout",
          "text": [
            "Optimization terminated successfully.\n",
            "         Current function value: 0.245468\n",
            "         Iterations 8\n",
            "                           Logit Regression Results                           \n",
            "==============================================================================\n",
            "Dep. Variable:             Noncurrent   No. Observations:                 5500\n",
            "Model:                          Logit   Df Residuals:                     5498\n",
            "Method:                           MLE   Df Model:                            1\n",
            "Date:                Tue, 12 Nov 2024   Pseudo R-squ.:                 0.09170\n",
            "Time:                        20:31:33   Log-Likelihood:                -1350.1\n",
            "converged:                       True   LL-Null:                       -1486.4\n",
            "Covariance Type:            nonrobust   LLR p-value:                 3.078e-61\n",
            "================================================================================\n",
            "                   coef    std err          z      P>|z|      [0.025      0.975]\n",
            "--------------------------------------------------------------------------------\n",
            "Intercept       -5.3785      0.217    -24.749      0.000      -5.804      -4.953\n",
            "BorrowerRate    13.2321      0.879     15.047      0.000      11.509      14.956\n",
            "================================================================================\n"
          ]
        }
      ],
      "source": [
        "import pandas as pd\n",
        "import statsmodels.formula.api as smf\n",
        "\n",
        "# Load the data file\n",
        "data = pd.read_csv(\"CreditCardLoan.csv\")\n",
        "\n",
        "# Create a dummy variable 'Noncurrent' (Noncurrent=0 if Status ==\"Current\" else 1)\n",
        "data['Noncurrent'] = data['Status'].apply(lambda x: 0 if x == \"Current\" else 1)\n",
        "\n",
        "# Reorder the levels of CreditGrade to make “AA” the first level\n",
        "data['CreditGrade'] = pd.Categorical(data['CreditGrade'], categories=[\"AA\", \"A\", \"B\", \"C\", \"HR\", \"NC\"], ordered=True)\n",
        "\n",
        "# Estimate a logistic regression model for the event of Noncurrent being 1, with BorrowerRate as the independent variable\n",
        "logit_model = smf.logit(\"Noncurrent ~ BorrowerRate\", data=data).fit()\n",
        "\n",
        "# Output the summary of the model\n",
        "print(logit_model.summary())\n"
      ]
    },
    {
      "cell_type": "code",
      "source": [
        "import numpy as np\n",
        "\n",
        "# Calculate the predicted probability of Noncurrent=1 using the logistic regression model coefficients\n",
        "data['ProbNoncurrent'] = logit_model.predict(data)\n",
        "\n",
        "# Calculate the log likelihood for each observation\n",
        "data['LogLikelihood'] = data.apply(\n",
        "    lambda row: np.log(row['ProbNoncurrent']) if row['Noncurrent'] == 1 else np.log(1 - row['ProbNoncurrent']),\n",
        "    axis=1\n",
        ")\n",
        "\n",
        "# Calculate the sum of the log likelihoods\n",
        "log_likelihood_sum = data['LogLikelihood'].sum()\n",
        "\n",
        "# Display results\n",
        "print(\"Sum of LogLikelihood:\", log_likelihood_sum)\n"
      ],
      "metadata": {
        "colab": {
          "base_uri": "https://localhost:8080/"
        },
        "id": "bCAFYiWxIdf6",
        "outputId": "7c9d72f6-ca01-4855-fdf0-78091bc9a5e9"
      },
      "execution_count": null,
      "outputs": [
        {
          "output_type": "stream",
          "name": "stdout",
          "text": [
            "Sum of LogLikelihood: -1350.0750160502207\n"
          ]
        }
      ]
    },
    {
      "cell_type": "code",
      "source": [
        "# Predict the probability of Noncurrent=1 using the model and save it as pred_noncurrent1\n",
        "data['pred_noncurrent1'] = logit_model.predict(data)\n",
        "\n",
        "# Compare ProbNoncurrent and pred_noncurrent1\n",
        "comparison = data[['ProbNoncurrent', 'pred_noncurrent1']]\n",
        "\n",
        "# Display the first few rows for comparison\n",
        "print(comparison.head())\n",
        "\n",
        "# Check if they are nearly identical by calculating the difference\n",
        "data['difference'] = data['ProbNoncurrent'] - data['pred_noncurrent1']\n",
        "print(\"Max Difference:\", data['difference'].max())\n",
        "print(\"Min Difference:\", data['difference'].min())\n",
        "print(\"Mean Difference:\", data['difference'].mean())\n"
      ],
      "metadata": {
        "colab": {
          "base_uri": "https://localhost:8080/"
        },
        "id": "ArgFNaoQJyZ1",
        "outputId": "1907f51d-8c04-43d8-e8a5-c0afb8626dea"
      },
      "execution_count": null,
      "outputs": [
        {
          "output_type": "stream",
          "name": "stdout",
          "text": [
            "   ProbNoncurrent  pred_noncurrent1\n",
            "0        0.032494          0.032494\n",
            "1        0.133312          0.133312\n",
            "2        0.032494          0.032494\n",
            "3        0.176363          0.176363\n",
            "4        0.013041          0.013041\n",
            "Max Difference: 0.0\n",
            "Min Difference: 0.0\n",
            "Mean Difference: 0.0\n"
          ]
        }
      ]
    },
    {
      "cell_type": "code",
      "source": [
        "# Estimate a logistic regression model with CreditGrade, Amount, Age, and BorrowerRate as independent variables\n",
        "logit_model_2 = smf.logit(\"Noncurrent ~ C(CreditGrade) + Amount + Age + BorrowerRate\", data=data).fit()\n",
        "\n",
        "# Output the summary of the model\n",
        "print(logit_model_2.summary())\n"
      ],
      "metadata": {
        "colab": {
          "base_uri": "https://localhost:8080/"
        },
        "id": "wuR90bQ6J_FD",
        "outputId": "1ebb7b9a-abf8-4b00-9393-131a1f796abd"
      },
      "execution_count": null,
      "outputs": [
        {
          "output_type": "stream",
          "name": "stdout",
          "text": [
            "Optimization terminated successfully.\n",
            "         Current function value: 0.213318\n",
            "         Iterations 9\n",
            "                           Logit Regression Results                           \n",
            "==============================================================================\n",
            "Dep. Variable:             Noncurrent   No. Observations:                 5500\n",
            "Model:                          Logit   Df Residuals:                     5491\n",
            "Method:                           MLE   Df Model:                            8\n",
            "Date:                Tue, 12 Nov 2024   Pseudo R-squ.:                  0.2107\n",
            "Time:                        20:54:28   Log-Likelihood:                -1173.3\n",
            "converged:                       True   LL-Null:                       -1486.4\n",
            "Covariance Type:            nonrobust   LLR p-value:                5.313e-130\n",
            "========================================================================================\n",
            "                           coef    std err          z      P>|z|      [0.025      0.975]\n",
            "----------------------------------------------------------------------------------------\n",
            "Intercept               -8.2407      0.525    -15.694      0.000      -9.270      -7.212\n",
            "C(CreditGrade)[T.A]      0.5875      0.489      1.200      0.230      -0.372       1.547\n",
            "C(CreditGrade)[T.B]      0.7397      0.489      1.512      0.130      -0.219       1.698\n",
            "C(CreditGrade)[T.C]      1.2177      0.510      2.388      0.017       0.218       2.217\n",
            "C(CreditGrade)[T.HR]     1.7766      0.514      3.459      0.001       0.770       2.783\n",
            "C(CreditGrade)[T.NC]     2.3126      0.598      3.867      0.000       1.140       3.485\n",
            "Amount                 4.43e-05   1.53e-05      2.902      0.004    1.44e-05    7.42e-05\n",
            "Age                      0.3673      0.022     16.598      0.000       0.324       0.411\n",
            "BorrowerRate            10.9391      1.195      9.157      0.000       8.598      13.280\n",
            "========================================================================================\n"
          ]
        }
      ]
    },
    {
      "cell_type": "code",
      "source": [
        "from sklearn.metrics import confusion_matrix\n",
        "\n",
        "# Predict the probability of Noncurrent=1 using the model and save it as pred_noncurrent\n",
        "data['pred_noncurrent'] = logit_model_2.predict(data)\n",
        "\n",
        "# Recode pred_noncurrent into a dummy variable pred_noncurrent_point3 at cutoff 0.3\n",
        "data['pred_noncurrent_point3'] = data['pred_noncurrent'].apply(lambda x: 1 if x >= 0.3 else 0)\n",
        "\n",
        "# Produce a confusion matrix based on pred_noncurrent_point3\n",
        "conf_matrix = confusion_matrix(data['Noncurrent'], data['pred_noncurrent_point3'])\n",
        "tn, fp, fn, tp = conf_matrix.ravel()  # Extract true negatives, false positives, false negatives, true positives\n",
        "\n",
        "# Calculate sensitivity and specificity\n",
        "sensitivity = tp / (tp + fn)  # Sensitivity (Recall) = TP / (TP + FN)\n",
        "specificity = tn / (tn + fp)  # Specificity = TN / (TN + FP)\n",
        "\n",
        "# Display results\n",
        "print(\"Confusion Matrix:\")\n",
        "print(conf_matrix)\n",
        "print(f\"Sensitivity: {sensitivity:.4f}\")\n",
        "print(f\"Specificity: {specificity:.4f}\")\n"
      ],
      "metadata": {
        "colab": {
          "base_uri": "https://localhost:8080/"
        },
        "id": "MCPHgRLGMkoa",
        "outputId": "a719b6a5-15d6-437e-e998-6844a6d7deaa"
      },
      "execution_count": null,
      "outputs": [
        {
          "output_type": "stream",
          "name": "stdout",
          "text": [
            "Confusion Matrix:\n",
            "[[4964  115]\n",
            " [ 338   83]]\n",
            "Sensitivity: 0.1971\n",
            "Specificity: 0.9774\n"
          ]
        }
      ]
    },
    {
      "cell_type": "code",
      "source": [
        "# Recode pred_noncurrent into a dummy variable pred_noncurrent_point2 at cutoff 0.2\n",
        "data['pred_noncurrent_point2'] = data['pred_noncurrent'].apply(lambda x: 1 if x >= 0.2 else 0)\n",
        "\n",
        "# Produce a confusion matrix based on pred_noncurrent_point2\n",
        "conf_matrix_point2 = confusion_matrix(data['Noncurrent'], data['pred_noncurrent_point2'])\n",
        "tn, fp, fn, tp = conf_matrix_point2.ravel()  # Extract true negatives, false positives, false negatives, true positives\n",
        "\n",
        "# Calculate sensitivity and specificity\n",
        "sensitivity_point2 = tp / (tp + fn)  # Sensitivity (Recall) = TP / (TP + FN)\n",
        "specificity_point2 = tn / (tn + fp)  # Specificity = TN / (TN + FP)\n",
        "\n",
        "# Display results\n",
        "print(\"Confusion Matrix (Cutoff = 0.2):\")\n",
        "print(conf_matrix_point2)\n",
        "print(f\"Sensitivity (Cutoff = 0.2): {sensitivity_point2:.4f}\")\n",
        "print(f\"Specificity (Cutoff = 0.2): {specificity_point2:.4f}\")\n"
      ],
      "metadata": {
        "id": "T-nLhrLAMuG2",
        "outputId": "098f312f-6323-44d8-8ba7-fbe2bc34e603",
        "colab": {
          "base_uri": "https://localhost:8080/"
        }
      },
      "execution_count": null,
      "outputs": [
        {
          "output_type": "stream",
          "name": "stdout",
          "text": [
            "Confusion Matrix (Cutoff = 0.2):\n",
            "[[4722  357]\n",
            " [ 255  166]]\n",
            "Sensitivity (Cutoff = 0.2): 0.3943\n",
            "Specificity (Cutoff = 0.2): 0.9297\n"
          ]
        }
      ]
    }
  ]
}