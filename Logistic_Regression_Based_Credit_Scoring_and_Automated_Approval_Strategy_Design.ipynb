{
  "nbformat": 4,
  "nbformat_minor": 0,
  "metadata": {
    "colab": {
      "provenance": [],
      "authorship_tag": "ABX9TyOzRX7zycYc53y9pca9dz6g",
      "include_colab_link": true
    },
    "kernelspec": {
      "name": "python3",
      "display_name": "Python 3"
    },
    "language_info": {
      "name": "python"
    }
  },
  "cells": [
    {
      "cell_type": "markdown",
      "metadata": {
        "id": "view-in-github",
        "colab_type": "text"
      },
      "source": [
        "<a href=\"https://colab.research.google.com/github/DeepthiVReddy/Credit-Risk-modeling/blob/main/Logistic_Regression_Based_Credit_Scoring_and_Automated_Approval_Strategy_Design.ipynb\" target=\"_parent\"><img src=\"https://colab.research.google.com/assets/colab-badge.svg\" alt=\"Open In Colab\"/></a>"
      ]
    },
    {
      "cell_type": "code",
      "execution_count": null,
      "metadata": {
        "colab": {
          "base_uri": "https://localhost:8080/"
        },
        "id": "zp03tWQatUYZ",
        "outputId": "967dd287-c747-4f57-c768-6127ffdf6132"
      },
      "outputs": [
        {
          "output_type": "stream",
          "name": "stdout",
          "text": [
            "Optimization terminated successfully.\n",
            "         Current function value: 0.440473\n",
            "         Iterations 7\n",
            "                           Logit Regression Results                           \n",
            "==============================================================================\n",
            "Dep. Variable:                   Good   No. Observations:                  800\n",
            "Model:                          Logit   Df Residuals:                      753\n",
            "Method:                           MLE   Df Model:                           46\n",
            "Date:                Wed, 20 Nov 2024   Pseudo R-squ.:                  0.2789\n",
            "Time:                        03:55:42   Log-Likelihood:                -352.38\n",
            "converged:                       True   LL-Null:                       -488.69\n",
            "Covariance Type:            nonrobust   LLR p-value:                 6.091e-34\n",
            "==========================================================================================\n",
            "                             coef    std err          z      P>|z|      [0.025      0.975]\n",
            "------------------------------------------------------------------------------------------\n",
            "Intercept                  5.4784      1.412      3.879      0.000       2.710       8.247\n",
            "CreditPurpose[T.1]         1.6769      0.436      3.848      0.000       0.823       2.531\n",
            "CreditPurpose[T.2]         0.6796      0.298      2.281      0.023       0.096       1.264\n",
            "CreditPurpose[T.3]         0.7576      0.280      2.704      0.007       0.208       1.307\n",
            "CreditPurpose[T.4]         0.4280      0.784      0.546      0.585      -1.109       1.965\n",
            "CreditPurpose[T.5]         0.2411      0.641      0.376      0.707      -1.016       1.498\n",
            "CreditPurpose[T.6]         0.0387      0.472      0.082      0.935      -0.887       0.965\n",
            "CreditPurpose[T.7]         1.7590      1.233      1.427      0.154      -0.657       4.175\n",
            "CreditPurpose[T.8]         0.3925      0.371      1.058      0.290      -0.335       1.120\n",
            "CreditPurpose[T.9]         1.4572      0.784      1.859      0.063      -0.079       2.994\n",
            "DebtorGuarantor[T.1]      -0.3705      0.472     -0.785      0.433      -1.296       0.555\n",
            "DebtorGuarantor[T.2]       1.4728      0.529      2.782      0.005       0.435       2.510\n",
            "CheckingAccount[T.1]      -1.8233      0.267     -6.820      0.000      -2.347      -1.299\n",
            "CheckingAccount[T.2]      -1.5063      0.265     -5.690      0.000      -2.025      -0.987\n",
            "CheckingAccount[T.3]      -0.5688      0.441     -1.290      0.197      -1.433       0.296\n",
            "SavingsAccount[T.1]       -0.8178      0.286     -2.859      0.004      -1.378      -0.257\n",
            "SavingsAccount[T.2]       -0.2806      0.391     -0.717      0.473      -1.047       0.486\n",
            "SavingsAccount[T.3]       -0.4488      0.480     -0.936      0.350      -1.389       0.491\n",
            "SavingsAccount[T.4]        0.5267      0.611      0.862      0.388      -0.670       1.724\n",
            "CreditHistory[T.1]        -0.6200      0.664     -0.933      0.351      -1.922       0.682\n",
            "CreditHistory[T.2]         0.2627      0.513      0.512      0.609      -0.743       1.268\n",
            "CreditHistory[T.3]         0.7217      0.551      1.310      0.190      -0.358       1.801\n",
            "CreditHistory[T.4]         1.2102      0.528      2.294      0.022       0.176       2.244\n",
            "OtherInstallment[T.1]     -0.6790      0.278     -2.440      0.015      -1.224      -0.134\n",
            "OtherInstallment[T.2]     -0.5311      0.425     -1.251      0.211      -1.363       0.301\n",
            "Female[T.1]               -0.4027      0.218     -1.845      0.065      -0.830       0.025\n",
            "Employment[T.1]            0.1122      0.490      0.229      0.819      -0.849       1.073\n",
            "Employment[T.2]            0.3386      0.471      0.719      0.472      -0.585       1.262\n",
            "Employment[T.3]            1.0700      0.511      2.095      0.036       0.069       2.071\n",
            "Employment[T.4]            0.4161      0.472      0.882      0.378      -0.508       1.340\n",
            "PropertyOwnership[T.1]     0.8615      0.467      1.843      0.065      -0.055       1.778\n",
            "PropertyOwnership[T.2]     0.5656      0.451      1.255      0.209      -0.318       1.449\n",
            "PropertyOwnership[T.3]     0.4283      0.431      0.994      0.320      -0.416       1.273\n",
            "Housing[T.1]              -0.6152      0.524     -1.174      0.240      -1.642       0.412\n",
            "Housing[T.2]              -0.0886      0.496     -0.179      0.858      -1.060       0.883\n",
            "Job[T.1]                  -0.8689      0.754     -1.152      0.249      -2.347       0.609\n",
            "Job[T.2]                  -0.9902      0.726     -1.364      0.173      -2.413       0.433\n",
            "Job[T.3]                  -0.8978      0.727     -1.236      0.217      -2.322       0.526\n",
            "Telephone[T.1]             0.4235      0.225      1.885      0.059      -0.017       0.864\n",
            "ForeignWorker[T.1]        -1.4675      0.706     -2.080      0.038      -2.850      -0.085\n",
            "CreditDuration            -0.0187      0.010     -1.789      0.074      -0.039       0.002\n",
            "CreditAmount              -0.0001   4.99e-05     -2.676      0.007      -0.000   -3.57e-05\n",
            "InstallmentPct            -0.3286      0.102     -3.213      0.001      -0.529      -0.128\n",
            "ExistingCredit            -0.5328      0.224     -2.376      0.017      -0.972      -0.093\n",
            "Age                        0.0213      0.010      2.074      0.038       0.001       0.042\n",
            "ResidenceYears            -0.0416      0.100     -0.418      0.676      -0.237       0.154\n",
            "Dependent                 -0.3139      0.284     -1.105      0.269      -0.871       0.243\n",
            "==========================================================================================\n"
          ]
        },
        {
          "output_type": "stream",
          "name": "stderr",
          "text": [
            "<ipython-input-1-567084fc81a3>:29: SettingWithCopyWarning: \n",
            "A value is trying to be set on a copy of a slice from a DataFrame.\n",
            "Try using .loc[row_indexer,col_indexer] = value instead\n",
            "\n",
            "See the caveats in the documentation: https://pandas.pydata.org/pandas-docs/stable/user_guide/indexing.html#returning-a-view-versus-a-copy\n",
            "  train[var] = train[var].astype(\"category\")\n"
          ]
        }
      ],
      "source": [
        "import pandas as pd\n",
        "import statsmodels.api as sm\n",
        "import statsmodels.formula.api as smf\n",
        "\n",
        "# Load the data\n",
        "data = pd.read_csv(\"GermanCredit.csv\")\n",
        "\n",
        "# Split the data into training (first 800) and validation (last 200) sets\n",
        "train = data.iloc[:800]\n",
        "validation = data.iloc[800:]\n",
        "\n",
        "# Define the dependent variable and the independent variables\n",
        "dependent_var = \"Good\"\n",
        "independent_vars = [\n",
        "    \"CreditDuration\", \"CreditPurpose\", \"CreditAmount\", \"InstallmentPct\", \"DebtorGuarantor\",\n",
        "    \"CheckingAccount\", \"SavingsAccount\", \"CreditHistory\", \"ExistingCredit\", \"OtherInstallment\",\n",
        "    \"Age\", \"Female\", \"Employment\", \"ResidenceYears\", \"PropertyOwnership\", \"Housing\",\n",
        "    \"Job\", \"Dependent\", \"Telephone\", \"ForeignWorker\"\n",
        "]\n",
        "\n",
        "# Convert categorical variables to `category` dtype\n",
        "categorical_vars = [\n",
        "    \"CreditPurpose\", \"DebtorGuarantor\", \"CheckingAccount\", \"SavingsAccount\",\n",
        "    \"CreditHistory\", \"OtherInstallment\", \"Female\", \"Employment\", \"PropertyOwnership\",\n",
        "    \"Housing\", \"Job\", \"Telephone\", \"ForeignWorker\"\n",
        "]\n",
        "\n",
        "for var in categorical_vars:\n",
        "    train[var] = train[var].astype(\"category\")\n",
        "\n",
        "# Build the logistic regression model using `statsmodels`\n",
        "formula = f\"{dependent_var} ~ \" + \" + \".join(independent_vars)\n",
        "model = smf.logit(formula=formula, data=train).fit()\n",
        "\n",
        "# Print the summary of the logistic regression model\n",
        "print(model.summary())\n"
      ]
    },
    {
      "cell_type": "markdown",
      "source": [
        "Q1)Interpretation of Coefficients\n",
        "\n",
        "CreditPurpose=1 (Used car):\n",
        "Coefficient: 𝛽=1.6769\n",
        "\n",
        "Interpretation:\n",
        "For a credit purpose categorized as \"Used car\" (CreditPurpose=1), compared to the baseline group (CreditPurpose=0, \"New car\"), the log-odds of being classified as a good credit risk increases by 1.6769, holding all other variables constant.\n",
        "In terms of odds: The odds of being a good credit risk are\n",
        "𝑒1.6769≈5.35 times higher for \"Used car\" loans than for \"New car\" loans, all else being equal.\n",
        "\n",
        "InstallmentPct (Numeric Variable):\n",
        "Coefficient: 𝛽=−0.3286\n",
        "\n",
        "Interpretation:\n",
        "For each 1% increase in the installment as a percentage of disposable income, the log-odds of being classified as a good credit risk decreases by 0.3286, holding all other variables constant.\n",
        "In terms of odds: The odds of being a good credit risk decrease by approximately\n",
        "1−𝑒−0.3286≈28 for each unit increase in InstallmentPct.\n",
        "\n"
      ],
      "metadata": {
        "id": "VYPN_z4BuP7w"
      }
    },
    {
      "cell_type": "code",
      "source": [
        "import pandas as pd\n",
        "import statsmodels.api as sm\n",
        "import statsmodels.formula.api as smf\n",
        "import numpy as np\n",
        "\n",
        "# Get the most frequent category for categorical variables in the training set\n",
        "most_frequent_categories = {}\n",
        "for var in categorical_vars:\n",
        "    most_frequent_categories[var] = train[var].mode()[0]\n",
        "\n",
        "# Get the sample means for continuous variables in the training set\n",
        "continuous_vars = [\n",
        "    \"CreditDuration\", \"CreditAmount\", \"InstallmentPct\", \"ExistingCredit\", \"Age\", \"ResidenceYears\", \"Dependent\"\n",
        "]\n",
        "sample_means = train[continuous_vars].mean()\n",
        "\n",
        "# Create two new observations: one with CreditPurpose=1 and another with CreditPurpose=0\n",
        "base_observation = {}\n",
        "for var in categorical_vars:\n",
        "    base_observation[var] = most_frequent_categories[var]\n",
        "\n",
        "for var in continuous_vars:\n",
        "    base_observation[var] = sample_means[var]\n",
        "\n",
        "# Create two observations for prediction\n",
        "observation_credit_purpose_0 = base_observation.copy()\n",
        "observation_credit_purpose_0[\"CreditPurpose\"] = 0\n",
        "\n",
        "observation_credit_purpose_1 = base_observation.copy()\n",
        "observation_credit_purpose_1[\"CreditPurpose\"] = 1\n",
        "\n",
        "# Convert observations to DataFrame for prediction\n",
        "observation_df = pd.DataFrame([observation_credit_purpose_0, observation_credit_purpose_1])\n",
        "\n",
        "# Predict probabilities using the logistic regression model\n",
        "observation_df[\"predicted_probability\"] = model.predict(observation_df)\n",
        "\n",
        "# Convert probabilities to log odds\n",
        "observation_df[\"log_odds\"] = observation_df[\"predicted_probability\"].apply(lambda p: np.log(p / (1 - p)))\n",
        "\n",
        "# Calculate the difference in log odds\n",
        "log_odds_difference = observation_df.loc[1, \"log_odds\"] - observation_df.loc[0, \"log_odds\"]\n",
        "\n",
        "# Print the results\n",
        "print(\"Predicted probabilities:\")\n",
        "print(observation_df[[\"CreditPurpose\", \"predicted_probability\"]])\n",
        "print(\"\\nLog odds:\")\n",
        "print(observation_df[[\"CreditPurpose\", \"log_odds\"]])\n",
        "print(\"\\nDifference in log odds (CreditPurpose=1 - CreditPurpose=0):\", log_odds_difference)\n"
      ],
      "metadata": {
        "colab": {
          "base_uri": "https://localhost:8080/"
        },
        "id": "9cbf2VW5um1t",
        "outputId": "6d0ed2f0-d2a9-4ed6-ffe6-c2f3eceb4ffc"
      },
      "execution_count": null,
      "outputs": [
        {
          "output_type": "stream",
          "name": "stdout",
          "text": [
            "Predicted probabilities:\n",
            "   CreditPurpose  predicted_probability\n",
            "0              0               0.705192\n",
            "1              1               0.927510\n",
            "\n",
            "Log odds:\n",
            "   CreditPurpose  log_odds\n",
            "0              0  0.872148\n",
            "1              1  2.549052\n",
            "\n",
            "Difference in log odds (CreditPurpose=1 - CreditPurpose=0): 1.6769047953032636\n"
          ]
        }
      ]
    },
    {
      "cell_type": "markdown",
      "source": [
        "Q2)Predicted Probability\n",
        "For CreditPurpose=0 (\"New car\"):\n",
        "\n",
        "Predicted probability:\n",
        "P(Good=1)=0.7052 (70.52% chance of being a good credit risk).\n",
        "\n",
        "For CreditPurpose=1 (\"Used car\"):\n",
        "\n",
        "Predicted probability:\n",
        "P(Good=1)=0.9275 (92.75% chance of being a good credit risk).\n",
        "\n",
        "Log of Odds\n",
        "CreditPurpose=0 (\"New car\"):\n",
        "Log odds:\n",
        "0.8721\n",
        "\n",
        "CreditPurpose=1 (\"Used car\"):\n",
        "Log odds:\n",
        "2.5491\n",
        "The difference in log odds between \"Used car\" and \"New car\" is:\n",
        "2.5491−0.8721=1.6769\n",
        "This matches the coefficient of CreditPurpose=1 from the model.\n",
        "\n",
        "Consumers with a credit purpose of \"Used car\" are more likely to be good credit risks compared to those with \"New car,\" as shown by the higher probability and the log odds difference of 1.6769.\n"
      ],
      "metadata": {
        "id": "Ef6TemAgv6Ig"
      }
    },
    {
      "cell_type": "code",
      "source": [
        "import numpy as np\n",
        "import matplotlib.pyplot as plt\n",
        "\n",
        "# Predict the probability of \"Good=1\" for each observation in the training set\n",
        "train[\"pred_good\"] = model.predict(train)\n",
        "\n",
        "# Recode \"pred_good\" into deciles (reverse order)\n",
        "train[\"pred_good_dec\"] = pd.qcut(train[\"pred_good\"], 10, labels=False, duplicates=\"drop\")\n",
        "train[\"pred_good_dec\"] = 10 - train[\"pred_good_dec\"]  # Reverse order to match requirements\n",
        "\n",
        "# Calculate the mean of \"Good\" for each decile\n",
        "decile_means = train.groupby(\"pred_good_dec\")[\"Good\"].mean()\n",
        "\n",
        "# Plot the decile lift chart\n",
        "plt.figure(figsize=(10, 6))\n",
        "plt.bar(decile_means.index, decile_means, width=0.8)\n",
        "plt.title(\"Decile Lift Chart\")\n",
        "plt.xlabel(\"Deciles (Predicted Good)\")\n",
        "plt.ylabel(\"Mean of Good\")\n",
        "plt.xticks(decile_means.index)\n",
        "plt.show()\n",
        "\n",
        "# Count deciles with mean value of \"Good\" greater than 85%\n",
        "deciles_above_85 = (decile_means > 0.85).sum()\n",
        "\n",
        "# Print the number of deciles above 85%\n",
        "print(\"Number of deciles with mean value of Good > 85%:\", deciles_above_85)\n"
      ],
      "metadata": {
        "colab": {
          "base_uri": "https://localhost:8080/",
          "height": 894
        },
        "id": "dg2HVhkGwqyI",
        "outputId": "22e8e5ed-cb6e-4c60-f3c4-c5503b2963b1"
      },
      "execution_count": null,
      "outputs": [
        {
          "output_type": "stream",
          "name": "stderr",
          "text": [
            "<ipython-input-4-cd949256f6d2>:5: SettingWithCopyWarning: \n",
            "A value is trying to be set on a copy of a slice from a DataFrame.\n",
            "Try using .loc[row_indexer,col_indexer] = value instead\n",
            "\n",
            "See the caveats in the documentation: https://pandas.pydata.org/pandas-docs/stable/user_guide/indexing.html#returning-a-view-versus-a-copy\n",
            "  train[\"pred_good\"] = model.predict(train)\n",
            "<ipython-input-4-cd949256f6d2>:8: SettingWithCopyWarning: \n",
            "A value is trying to be set on a copy of a slice from a DataFrame.\n",
            "Try using .loc[row_indexer,col_indexer] = value instead\n",
            "\n",
            "See the caveats in the documentation: https://pandas.pydata.org/pandas-docs/stable/user_guide/indexing.html#returning-a-view-versus-a-copy\n",
            "  train[\"pred_good_dec\"] = pd.qcut(train[\"pred_good\"], 10, labels=False, duplicates=\"drop\")\n",
            "<ipython-input-4-cd949256f6d2>:9: SettingWithCopyWarning: \n",
            "A value is trying to be set on a copy of a slice from a DataFrame.\n",
            "Try using .loc[row_indexer,col_indexer] = value instead\n",
            "\n",
            "See the caveats in the documentation: https://pandas.pydata.org/pandas-docs/stable/user_guide/indexing.html#returning-a-view-versus-a-copy\n",
            "  train[\"pred_good_dec\"] = 10 - train[\"pred_good_dec\"]  # Reverse order to match requirements\n"
          ]
        },
        {
          "output_type": "display_data",
          "data": {
            "text/plain": [
              "<Figure size 1000x600 with 1 Axes>"
            ],
            "image/png": "[encoded data removed]"
          },
          "metadata": {}
        },
        {
          "output_type": "stream",
          "name": "stdout",
          "text": [
            "Number of deciles with mean value of Good > 85%: 4\n"
          ]
        }
      ]
    },
    {
      "cell_type": "markdown",
      "source": [
        "Q3)Decile Lift Chart\n",
        "The chart represents the mean value of \"Good\" (probability of being a good credit risk) for each decile, sorted in reverse order based on predicted probabilities.\n",
        "\n",
        "Deciles with Mean > 85%\n",
        "From the chart:\n",
        "\n",
        "Deciles 1 to 4 have mean values of \"Good\" greater than 85%.\n",
        "Therefore, the number of deciles with a mean value of \"Good\" > 85% is: 4.\n",
        "This indicates that the top 4 deciles contain consumers who are highly likely to be good credit risks based on the model predictions."
      ],
      "metadata": {
        "id": "_n5zlSwFx_wH"
      }
    },
    {
      "cell_type": "code",
      "source": [
        "from sklearn.metrics import confusion_matrix, accuracy_score\n",
        "\n",
        "# Predict the probability of \"Good=1\" for each observation in the training set\n",
        "train[\"pred_good\"] = model.predict(train)\n",
        "\n",
        "# Recode \"pred_good\" into dummy variable \"pred_good_point8\"\n",
        "train[\"pred_good_point8\"] = (train[\"pred_good\"] >= 0.8).astype(int)\n",
        "\n",
        "# Create confusion matrix\n",
        "conf_matrix = confusion_matrix(train[\"Good\"], train[\"pred_good_point8\"])\n",
        "tn, fp, fn, tp = conf_matrix.ravel()\n",
        "\n",
        "# Calculate sensitivity and specificity\n",
        "sensitivity = tp / (tp + fn)  # True Positive Rate\n",
        "specificity = tn / (tn + fp)  # True Negative Rate\n",
        "\n",
        "# Print confusion matrix, sensitivity, and specificity\n",
        "print(\"Confusion Matrix:\")\n",
        "print(conf_matrix)\n",
        "print(\"\\nSensitivity (True Positive Rate):\", sensitivity)\n",
        "print(\"Specificity (True Negative Rate):\", specificity)\n"
      ],
      "metadata": {
        "colab": {
          "base_uri": "https://localhost:8080/"
        },
        "id": "lCKv0LbzyCQZ",
        "outputId": "6ed05231-b313-408d-cf3e-4a8f80c2a393"
      },
      "execution_count": null,
      "outputs": [
        {
          "output_type": "stream",
          "name": "stdout",
          "text": [
            "Confusion Matrix:\n",
            "[[202  38]\n",
            " [211 349]]\n",
            "\n",
            "Sensitivity (True Positive Rate): 0.6232142857142857\n",
            "Specificity (True Negative Rate): 0.8416666666666667\n"
          ]
        },
        {
          "output_type": "stream",
          "name": "stderr",
          "text": [
            "<ipython-input-5-fcca8d830417>:4: SettingWithCopyWarning: \n",
            "A value is trying to be set on a copy of a slice from a DataFrame.\n",
            "Try using .loc[row_indexer,col_indexer] = value instead\n",
            "\n",
            "See the caveats in the documentation: https://pandas.pydata.org/pandas-docs/stable/user_guide/indexing.html#returning-a-view-versus-a-copy\n",
            "  train[\"pred_good\"] = model.predict(train)\n",
            "<ipython-input-5-fcca8d830417>:7: SettingWithCopyWarning: \n",
            "A value is trying to be set on a copy of a slice from a DataFrame.\n",
            "Try using .loc[row_indexer,col_indexer] = value instead\n",
            "\n",
            "See the caveats in the documentation: https://pandas.pydata.org/pandas-docs/stable/user_guide/indexing.html#returning-a-view-versus-a-copy\n",
            "  train[\"pred_good_point8\"] = (train[\"pred_good\"] >= 0.8).astype(int)\n"
          ]
        }
      ]
    },
    {
      "cell_type": "markdown",
      "source": [
        "Q4)Sensitivity: 62.32% — The model correctly identifies 62.32% of the good credit risks.\n",
        "Specificity: 84.17% — The model correctly identifies 84.17% of the bad credit risks.\n",
        "This shows that the model is more effective at identifying bad credit risks than good ones at the 0.8 cutoff."
      ],
      "metadata": {
        "id": "UPFkZbfCyche"
      }
    },
    {
      "cell_type": "code",
      "source": [
        "# Total number of approved applications\n",
        "approved_applications = tp + fp\n",
        "\n",
        "# Calculate the percentage of good credit risks among approved applications\n",
        "percentage_good_risks = (tp / approved_applications) * 100\n",
        "\n",
        "# Print the results\n",
        "print(\"Total number of approved applications (TP + FP):\", approved_applications)\n",
        "print(\"Number of good credit risks (TP):\", tp)\n",
        "print(\"Number of bad credit risks (FP):\", fp)\n",
        "print(\"Percentage of good credit risks among approved applications:\", percentage_good_risks)\n"
      ],
      "metadata": {
        "colab": {
          "base_uri": "https://localhost:8080/"
        },
        "id": "kr9PUnZOyeKK",
        "outputId": "03a1c4ba-a64b-4ada-b405-79de399124d9"
      },
      "execution_count": null,
      "outputs": [
        {
          "output_type": "stream",
          "name": "stdout",
          "text": [
            "Total number of approved applications (TP + FP): 387\n",
            "Number of good credit risks (TP): 349\n",
            "Number of bad credit risks (FP): 38\n",
            "Percentage of good credit risks among approved applications: 90.18087855297158\n"
          ]
        }
      ]
    },
    {
      "cell_type": "code",
      "source": [
        "import statsmodels.formula.api as smf\n",
        "\n",
        "# Add interaction term between CheckingAccount and CreditAmount\n",
        "formula_with_interaction = (\n",
        "    \"Good ~ CreditDuration + CreditPurpose + CreditAmount + InstallmentPct + DebtorGuarantor + \"\n",
        "    \"CheckingAccount + SavingsAccount + CreditHistory + ExistingCredit + OtherInstallment + Age + \"\n",
        "    \"Female + Employment + ResidenceYears + PropertyOwnership + Housing + Job + Dependent + \"\n",
        "    \"Telephone + ForeignWorker + CheckingAccount:CreditAmount\"\n",
        ")\n",
        "\n",
        "# Fit the model with the interaction term\n",
        "model_with_interaction = smf.logit(formula=formula_with_interaction, data=train).fit()\n",
        "\n",
        "# Print summary of the new model\n",
        "print(model_with_interaction.summary())\n",
        "\n",
        "# Marginal effect of CreditAmount\n",
        "marginal_effect = model_with_interaction.params[\"CreditAmount\"]\n",
        "print(\"\\nMarginal Effect of CreditAmount on the dependent variable:\", marginal_effect)\n",
        "\n",
        "# Interpret interaction for CheckingAccount=3\n",
        "interaction_term = model_with_interaction.params[\"CheckingAccount[T.3]:CreditAmount\"]\n",
        "print(\"\\nInteraction term for CheckingAccount=3 and CreditAmount:\", interaction_term)\n",
        "\n",
        "# Interpretation:\n",
        "# The coefficient of the interaction term shows how the effect of CreditAmount changes\n",
        "# when CheckingAccount=3 compared to the baseline category of CheckingAccount.\n",
        "# The marginal effect of CreditAmount will be the sum of its base coefficient and the interaction\n",
        "# term coefficient when CheckingAccount=3.\n",
        "marginal_effect_checking_3 = marginal_effect + interaction_term\n",
        "print(\n",
        "    \"Marginal Effect of CreditAmount on the dependent variable when CheckingAccount=3:\",\n",
        "    marginal_effect_checking_3,\n",
        ")\n"
      ],
      "metadata": {
        "colab": {
          "base_uri": "https://localhost:8080/"
        },
        "id": "3Difon8Cy3VK",
        "outputId": "b1e841b6-8903-4ad6-9008-56eabf44d84a"
      },
      "execution_count": null,
      "outputs": [
        {
          "output_type": "stream",
          "name": "stdout",
          "text": [
            "Optimization terminated successfully.\n",
            "         Current function value: 0.434955\n",
            "         Iterations 7\n",
            "                           Logit Regression Results                           \n",
            "==============================================================================\n",
            "Dep. Variable:                   Good   No. Observations:                  800\n",
            "Model:                          Logit   Df Residuals:                      750\n",
            "Method:                           MLE   Df Model:                           49\n",
            "Date:                Wed, 20 Nov 2024   Pseudo R-squ.:                  0.2880\n",
            "Time:                        04:19:20   Log-Likelihood:                -347.96\n",
            "converged:                       True   LL-Null:                       -488.69\n",
            "Covariance Type:            nonrobust   LLR p-value:                 2.229e-34\n",
            "=====================================================================================================\n",
            "                                        coef    std err          z      P>|z|      [0.025      0.975]\n",
            "-----------------------------------------------------------------------------------------------------\n",
            "Intercept                             5.6967      1.435      3.969      0.000       2.883       8.510\n",
            "CreditPurpose[T.1]                    1.6187      0.439      3.686      0.000       0.758       2.479\n",
            "CreditPurpose[T.2]                    0.6466      0.300      2.153      0.031       0.058       1.235\n",
            "CreditPurpose[T.3]                    0.7032      0.282      2.495      0.013       0.151       1.255\n",
            "CreditPurpose[T.4]                    0.4596      0.781      0.589      0.556      -1.071       1.990\n",
            "CreditPurpose[T.5]                    0.1540      0.649      0.237      0.812      -1.118       1.426\n",
            "CreditPurpose[T.6]                    0.0250      0.478      0.052      0.958      -0.912       0.962\n",
            "CreditPurpose[T.7]                    1.7748      1.256      1.413      0.158      -0.686       4.236\n",
            "CreditPurpose[T.8]                    0.3441      0.375      0.918      0.359      -0.391       1.079\n",
            "CreditPurpose[T.9]                    1.4923      0.796      1.874      0.061      -0.069       3.053\n",
            "DebtorGuarantor[T.1]                 -0.4265      0.477     -0.895      0.371      -1.361       0.508\n",
            "DebtorGuarantor[T.2]                  1.4067      0.534      2.632      0.008       0.359       2.454\n",
            "CheckingAccount[T.1]                 -2.0787      0.408     -5.089      0.000      -2.879      -1.278\n",
            "CheckingAccount[T.2]                 -1.4795      0.407     -3.632      0.000      -2.278      -0.681\n",
            "CheckingAccount[T.3]                 -2.5157      0.852     -2.952      0.003      -4.186      -0.845\n",
            "SavingsAccount[T.1]                  -0.8273      0.289     -2.863      0.004      -1.394      -0.261\n",
            "SavingsAccount[T.2]                  -0.2226      0.393     -0.566      0.572      -0.994       0.549\n",
            "SavingsAccount[T.3]                  -0.4275      0.482     -0.887      0.375      -1.372       0.517\n",
            "SavingsAccount[T.4]                   0.5166      0.618      0.836      0.403      -0.695       1.728\n",
            "CreditHistory[T.1]                   -0.4944      0.673     -0.734      0.463      -1.814       0.825\n",
            "CreditHistory[T.2]                    0.3371      0.526      0.640      0.522      -0.695       1.369\n",
            "CreditHistory[T.3]                    0.8481      0.566      1.498      0.134      -0.262       1.958\n",
            "CreditHistory[T.4]                    1.3129      0.543      2.420      0.016       0.250       2.376\n",
            "OtherInstallment[T.1]                -0.6476      0.282     -2.295      0.022      -1.200      -0.095\n",
            "OtherInstallment[T.2]                -0.5580      0.428     -1.303      0.193      -1.397       0.281\n",
            "Female[T.1]                          -0.3505      0.220     -1.593      0.111      -0.782       0.081\n",
            "Employment[T.1]                       0.1837      0.493      0.372      0.710      -0.783       1.150\n",
            "Employment[T.2]                       0.4240      0.475      0.893      0.372      -0.506       1.354\n",
            "Employment[T.3]                       1.1651      0.516      2.260      0.024       0.154       2.176\n",
            "Employment[T.4]                       0.4518      0.473      0.955      0.340      -0.476       1.380\n",
            "PropertyOwnership[T.1]                0.9553      0.471      2.027      0.043       0.032       1.879\n",
            "PropertyOwnership[T.2]                0.6163      0.455      1.353      0.176      -0.276       1.509\n",
            "PropertyOwnership[T.3]                0.4488      0.435      1.032      0.302      -0.404       1.302\n",
            "Housing[T.1]                         -0.6917      0.531     -1.303      0.193      -1.733       0.349\n",
            "Housing[T.2]                         -0.1702      0.500     -0.341      0.733      -1.150       0.809\n",
            "Job[T.1]                             -1.0992      0.754     -1.458      0.145      -2.576       0.378\n",
            "Job[T.2]                             -1.2346      0.727     -1.698      0.090      -2.660       0.190\n",
            "Job[T.3]                             -1.0985      0.729     -1.508      0.132      -2.527       0.330\n",
            "Telephone[T.1]                        0.4775      0.226      2.111      0.035       0.034       0.921\n",
            "ForeignWorker[T.1]                   -1.5293      0.720     -2.125      0.034      -2.940      -0.119\n",
            "CreditDuration                       -0.0209      0.011     -1.972      0.049      -0.042      -0.000\n",
            "CreditAmount                         -0.0002   7.31e-05     -2.124      0.034      -0.000    -1.2e-05\n",
            "CheckingAccount[T.1]:CreditAmount  7.512e-05   9.15e-05      0.821      0.411      -0.000       0.000\n",
            "CheckingAccount[T.2]:CreditAmount -7.278e-06   8.05e-05     -0.090      0.928      -0.000       0.000\n",
            "CheckingAccount[T.3]:CreditAmount     0.0009      0.000      2.317      0.020       0.000       0.002\n",
            "InstallmentPct                       -0.3213      0.103     -3.106      0.002      -0.524      -0.119\n",
            "ExistingCredit                       -0.5608      0.225     -2.497      0.013      -1.001      -0.121\n",
            "Age                                   0.0224      0.010      2.159      0.031       0.002       0.043\n",
            "ResidenceYears                       -0.0275      0.100     -0.274      0.784      -0.224       0.169\n",
            "Dependent                            -0.2944      0.285     -1.032      0.302      -0.854       0.265\n",
            "=====================================================================================================\n",
            "\n",
            "Marginal Effect of CreditAmount on the dependent variable: -0.000155259729846672\n",
            "\n",
            "Interaction term for CheckingAccount=3 and CreditAmount: 0.000864389040476108\n",
            "Marginal Effect of CreditAmount on the dependent variable when CheckingAccount=3: 0.000709129310629436\n"
          ]
        }
      ]
    },
    {
      "cell_type": "markdown",
      "source": [
        "Q6)Marginal Effect of CreditAmount:\n",
        "\n",
        "A one-unit increase in CreditAmount decreases the log-odds of being a good credit risk by 0.000155 for the baseline group.\n",
        "Interaction Term (CheckingAccount=3 and CreditAmount):\n",
        "\n",
        "For CheckingAccount=3, the interaction term has a coefficient of 0.000864, meaning the marginal effect of CreditAmount changes.\n",
        "Marginal Effect for CheckingAccount=3:\n",
        "\n",
        "When CheckingAccount=3, a one-unit increase in CreditAmount increases the log-odds of being a good credit risk by 0.000709.\n",
        "\n",
        "The interaction term shows that the impact of CreditAmount on the log-odds of being a good credit risk is dependent on the CheckingAccount category. Specifically, for CheckingAccount=3, the marginal effect becomes positive, highlighting a different relationship compared to the baseline."
      ],
      "metadata": {
        "id": "eFyEd597zbeV"
      }
    },
    {
      "cell_type": "code",
      "source": [
        "from sklearn.metrics import confusion_matrix\n",
        "\n",
        "# Predict the probability of \"Good=1\" for the validation set\n",
        "validation[\"pred_good\"] = model.predict(validation)\n",
        "\n",
        "# Recode \"pred_good\" into dummy variable \"pred_good_point8\"\n",
        "validation[\"pred_good_point8\"] = (validation[\"pred_good\"] >= 0.8).astype(int)\n",
        "\n",
        "# Create confusion matrix\n",
        "conf_matrix = confusion_matrix(validation[\"Good\"], validation[\"pred_good_point8\"])\n",
        "tn, fp, fn, tp = conf_matrix.ravel()\n",
        "\n",
        "# Calculate sensitivity and specificity\n",
        "sensitivity = tp / (tp + fn)  # True Positive Rate\n",
        "specificity = tn / (tn + fp)  # True Negative Rate\n",
        "\n",
        "# Print confusion matrix, sensitivity, and specificity\n",
        "print(\"Confusion Matrix (Validation Set):\")\n",
        "print(conf_matrix)\n",
        "print(\"\\nSensitivity (True Positive Rate):\", sensitivity)\n",
        "print(\"Specificity (True Negative Rate):\", specificity)\n"
      ],
      "metadata": {
        "colab": {
          "base_uri": "https://localhost:8080/"
        },
        "id": "78UELuuYzjtS",
        "outputId": "77192b00-44e1-4191-a2bc-93c4527c378a"
      },
      "execution_count": null,
      "outputs": [
        {
          "output_type": "stream",
          "name": "stdout",
          "text": [
            "Confusion Matrix (Validation Set):\n",
            "[[51  9]\n",
            " [56 84]]\n",
            "\n",
            "Sensitivity (True Positive Rate): 0.6\n",
            "Specificity (True Negative Rate): 0.85\n"
          ]
        },
        {
          "output_type": "stream",
          "name": "stderr",
          "text": [
            "<ipython-input-8-22d0de5b9292>:4: SettingWithCopyWarning: \n",
            "A value is trying to be set on a copy of a slice from a DataFrame.\n",
            "Try using .loc[row_indexer,col_indexer] = value instead\n",
            "\n",
            "See the caveats in the documentation: https://pandas.pydata.org/pandas-docs/stable/user_guide/indexing.html#returning-a-view-versus-a-copy\n",
            "  validation[\"pred_good\"] = model.predict(validation)\n",
            "<ipython-input-8-22d0de5b9292>:7: SettingWithCopyWarning: \n",
            "A value is trying to be set on a copy of a slice from a DataFrame.\n",
            "Try using .loc[row_indexer,col_indexer] = value instead\n",
            "\n",
            "See the caveats in the documentation: https://pandas.pydata.org/pandas-docs/stable/user_guide/indexing.html#returning-a-view-versus-a-copy\n",
            "  validation[\"pred_good_point8\"] = (validation[\"pred_good\"] >= 0.8).astype(int)\n"
          ]
        }
      ]
    },
    {
      "cell_type": "markdown",
      "source": [
        "Q7)Sensitivity: 60% — The model correctly identifies 60% of good credit risks.\n",
        "Specificity: 85% — The model correctly identifies 85% of bad credit risks.\n",
        "The model performs better at identifying bad credit risks in the validation set.\n",
        "\n",
        "\n",
        "\n",
        "\n",
        "\n",
        "\n"
      ],
      "metadata": {
        "id": "vJO_d1OBz7ZI"
      }
    },
    {
      "cell_type": "code",
      "source": [
        "# Predict probabilities (pred_good) for the validation set\n",
        "validation[\"pred_good\"] = model.predict(validation)\n",
        "\n",
        "# Classify applications as approved if pred_good >= 0.8\n",
        "validation[\"pred_good_point8\"] = (validation[\"pred_good\"] >= 0.8).astype(int)\n",
        "\n",
        "# Count the number of approved applications\n",
        "approved_applications_count = validation[\"pred_good_point8\"].sum()\n",
        "\n",
        "# Calculate the total CreditAmount for approved applications\n",
        "total_credit_amount_approved = validation.loc[validation[\"pred_good_point8\"] == 1, \"CreditAmount\"].sum()\n",
        "\n",
        "# Use the percentage of good credit risks from Q5 (90.18%) to estimate the number of good and bad credit risks\n",
        "percentage_good_risks = 90.18  # From Q5\n",
        "num_good_risks = round((percentage_good_risks / 100) * approved_applications_count)\n",
        "num_bad_risks = approved_applications_count - num_good_risks\n",
        "\n",
        "# Print the results\n",
        "print(\"Number of approved applications:\", approved_applications_count)\n",
        "print(\"Total CreditAmount for approved applications:\", total_credit_amount_approved)\n",
        "print(\"Estimated number of good credit risks among approved applications:\", num_good_risks)\n",
        "print(\"Estimated number of bad credit risks among approved applications:\", num_bad_risks)\n"
      ],
      "metadata": {
        "colab": {
          "base_uri": "https://localhost:8080/"
        },
        "id": "n7smUGoaz9L7",
        "outputId": "a6262ad3-f4bc-4540-ba37-94a630c38565"
      },
      "execution_count": null,
      "outputs": [
        {
          "output_type": "stream",
          "name": "stdout",
          "text": [
            "Number of approved applications: 93\n",
            "Total CreditAmount for approved applications: 261801\n",
            "Estimated number of good credit risks among approved applications: 84\n",
            "Estimated number of bad credit risks among approved applications: 9\n"
          ]
        },
        {
          "output_type": "stream",
          "name": "stderr",
          "text": [
            "<ipython-input-9-2b7742fcce71>:2: SettingWithCopyWarning: \n",
            "A value is trying to be set on a copy of a slice from a DataFrame.\n",
            "Try using .loc[row_indexer,col_indexer] = value instead\n",
            "\n",
            "See the caveats in the documentation: https://pandas.pydata.org/pandas-docs/stable/user_guide/indexing.html#returning-a-view-versus-a-copy\n",
            "  validation[\"pred_good\"] = model.predict(validation)\n",
            "<ipython-input-9-2b7742fcce71>:5: SettingWithCopyWarning: \n",
            "A value is trying to be set on a copy of a slice from a DataFrame.\n",
            "Try using .loc[row_indexer,col_indexer] = value instead\n",
            "\n",
            "See the caveats in the documentation: https://pandas.pydata.org/pandas-docs/stable/user_guide/indexing.html#returning-a-view-versus-a-copy\n",
            "  validation[\"pred_good_point8\"] = (validation[\"pred_good\"] >= 0.8).astype(int)\n"
          ]
        }
      ]
    },
    {
      "cell_type": "markdown",
      "source": [
        "Q8)The bank will automatically approve 93 applications, with an estimated 84 good credit risks and 9 bad credit risks, and the total credit amount of approved applications is 261,801."
      ],
      "metadata": {
        "id": "mUGyVt6L0WeB"
      }
    }
  ]
}